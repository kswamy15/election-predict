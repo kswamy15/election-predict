{
 "cells": [
  {
   "cell_type": "code",
   "execution_count": 1,
   "metadata": {
    "collapsed": false
   },
   "outputs": [],
   "source": [
    "import collections\n",
    "import datetime\n",
    "\n",
    "import numpy as np\n",
    "import pandas as pd\n",
    "import requests\n",
    "\n",
    "API_ENDPOINT = \"http://elections.huffingtonpost.com/pollster/api/polls\"\n",
    "\n",
    "np.random.seed(2016)"
   ]
  },
  {
   "cell_type": "code",
   "execution_count": 16,
   "metadata": {
    "collapsed": false
   },
   "outputs": [],
   "source": [
    "def get_all_results(state='US', party='gop', start_date='2015-06-01'):\n",
    "    #topic = '2016-president-{}-primary'.format(party)\n",
    "    topic = '2016-president'\n",
    "    params = {'state': state,\n",
    "              'after': start_date,\n",
    "              'topic': topic              \n",
    "             }\n",
    "    page = 1\n",
    "    while True:\n",
    "        params['page'] = page\n",
    "        page_results = requests.get(API_ENDPOINT,\n",
    "                                    params=params).json()\n",
    "        for poll in page_results:\n",
    "            #print 'reached'\n",
    "            try:\n",
    "                subpop = next(i['subpopulations'][0]\n",
    "                              for i in poll['questions']\n",
    "                              if i['topic'] == topic)\n",
    "                for response in subpop['responses']:\n",
    "                    if response['first_name']:\n",
    "                        yield {'poll': poll['id'],\n",
    "                               'date': poll['end_date'],\n",
    "                               'filter': subpop['name'].lower(),\n",
    "                               'obs': subpop['observations'],\n",
    "                               'candidate': '{} {}'.format(response['first_name'], response['last_name']),\n",
    "                               'mean': response['value']}\n",
    "            except (RuntimeError, TypeError, NameError, IndexError):\n",
    "                pass\n",
    "\n",
    "        if len(page_results) < 10:\n",
    "            break\n",
    "        page += 1"
   ]
  },
  {
   "cell_type": "code",
   "execution_count": 17,
   "metadata": {
    "collapsed": true
   },
   "outputs": [],
   "source": [
    "def get_polls(state='US', party='gop', start_date='2015-12-01'):\n",
    "    polls = pd.DataFrame(get_all_results(state=state, party=party, start_date=start_date))\n",
    "    try:\n",
    "        polls['date'] = pd.to_datetime(polls['date'])\n",
    "        return polls\n",
    "    except (RuntimeError, TypeError, NameError, IndexError, KeyError):\n",
    "        return True"
   ]
  },
  {
   "cell_type": "code",
   "execution_count": 18,
   "metadata": {
    "collapsed": false
   },
   "outputs": [],
   "source": [
    "def get_distribution_for_date(polls, target_date=None, window=60):\n",
    "    try:\n",
    "        if target_date is None:\n",
    "            target_date = datetime.datetime.today()\n",
    "        polls = polls[\n",
    "            (polls['date'] <= target_date)\n",
    "            & (polls['date'] > target_date - datetime.timedelta(window))\n",
    "        ]\n",
    "        weights = 1 / np.square((target_date - polls['date']) / np.timedelta64(1, 'D') + 1)\n",
    "        weighted = polls[['candidate']].copy()\n",
    "        weighted['n'] = weights * polls['obs']\n",
    "        weighted['votes'] = polls['mean'] / 100 * polls['obs'] * weights\n",
    "        weighted = weighted.groupby('candidate').sum()\n",
    "        weighted['mean'] = weighted['votes'] / weighted['n']\n",
    "        weighted['std'] = np.sqrt((weighted['mean'] * (1 - weighted['mean'])) / weighted['n'])\n",
    "        return weighted[['mean', 'std']].query('mean > 0').copy()\n",
    "    except (RuntimeError, TypeError, NameError, IndexError):\n",
    "        return True"
   ]
  },
  {
   "cell_type": "code",
   "execution_count": 19,
   "metadata": {
    "collapsed": false
   },
   "outputs": [],
   "source": [
    "def run_simulation(dists, trials=10000):\n",
    "    runs = pd.DataFrame(\n",
    "        [np.random.normal(dists['mean'], dists['std'])\n",
    "         for i in range(trials)],\n",
    "        columns=dists.index)\n",
    "    results = pd.Series(collections.Counter(runs.T.idxmax()))\n",
    "    return results / results.sum()\n",
    "    #return results"
   ]
  },
  {
   "cell_type": "code",
   "execution_count": 20,
   "metadata": {
    "collapsed": false
   },
   "outputs": [],
   "source": [
    "def predict(state='us', party='gop', window=30, trials=10000, target_date=None):\n",
    "    polls = get_polls(state=state, party=party)\n",
    "    dists = get_distribution_for_date(polls, window=window, target_date=target_date)\n",
    "    print('Superpoll Results:')\n",
    "    try:\n",
    "        print(dists.sort_values('mean', ascending=False).applymap(lambda x: '{:.1%}'.format(x)))\n",
    "        print()\n",
    "        print('Simulation Results:')\n",
    "        #print(run_simulation(dists, trials=trials).sort_values(ascending=False).map(lambda x: '{:.1%}'.format(x)))\n",
    "        print(run_simulation(dists,trials=trials))\n",
    "    except (RuntimeError, TypeError, NameError, IndexError, AttributeError):\n",
    "        pass    "
   ]
  },
  {
   "cell_type": "code",
   "execution_count": 21,
   "metadata": {
    "collapsed": false
   },
   "outputs": [
    {
     "name": "stdout",
     "output_type": "stream",
     "text": [
      "Superpoll Results:\n",
      "                  mean   std\n",
      "candidate                   \n",
      "Hillary Clinton  46.0%  1.4%\n",
      "Donald Trump     42.9%  1.4%\n",
      "Gary Johnson      7.7%  1.4%\n",
      "()\n",
      "Simulation Results:\n",
      "Donald Trump       0.0588\n",
      "Hillary Clinton    0.9412\n",
      "dtype: float64\n"
     ]
    }
   ],
   "source": [
    "target_date = datetime.datetime(2016, 9, 15)\n",
    "predict(state='US', party='gop')"
   ]
  },
  {
   "cell_type": "code",
   "execution_count": 25,
   "metadata": {
    "collapsed": false,
    "scrolled": true
   },
   "outputs": [],
   "source": [
    "states = ['AL','AK','AZ','AR','CA','CO','CT','DE','FL','GA','HI','ID','IL','IN','IA','KS','KY','LA','ME','MD','MA','MI',\n",
    "          'MN','MS','MO','MT','NE','NV','NH','NJ','NM','NY','NC','ND','OH','OK','OR','PA','RI','SC','SD','TN','TX','UT',\n",
    "          'VT','VA','WA','WV','WI','WY']\n",
    "\n",
    "candidates= ['Hillary Clinton', 'Donald Trump']\n",
    "test1 = pd.DataFrame(columns=['Donald Trump','Hillary Clinton'], index = states)\n",
    "for i in states:\n",
    "    polls = get_polls(state=i)\n",
    "    dists = get_distribution_for_date(polls,window=30)\n",
    "    #print(dists.sort_values('mean', ascending=False).applymap(lambda x: '{:.1%}'.format(x)))\n",
    "    #print dists\n",
    "    if hasattr(dists, 'empty'):\n",
    "        simul_results = run_simulation(dists)\n",
    "        for j in candidates:\n",
    "            #test1.loc[i][j] = '{mean:'+'{:.1%}'.format(dists.loc[j]['mean'])+',std:'+ \\\n",
    "            #                   '{:.1%}'.format(dists.loc[j]['std'])+',simul:'+ \\\n",
    "            #                   '{:.1%}'.format(simul_results[j])+'}' \n",
    "            test1.loc[i][j] = '{:.1%}'.format(simul_results[j])\n",
    "    \n",
    "    \n",
    "    #poll['state'] = "
   ]
  },
  {
   "cell_type": "code",
   "execution_count": 12,
   "metadata": {
    "collapsed": true
   },
   "outputs": [],
   "source": [
    "polls1 = pd.DataFrame(get_all_results(state='CA', start_date='2016-6-1'))"
   ]
  },
  {
   "cell_type": "code",
   "execution_count": 26,
   "metadata": {
    "collapsed": false,
    "scrolled": true
   },
   "outputs": [
    {
     "data": {
      "text/html": [
       "<div>\n",
       "<table border=\"1\" class=\"dataframe\">\n",
       "  <thead>\n",
       "    <tr style=\"text-align: right;\">\n",
       "      <th></th>\n",
       "      <th>Donald Trump</th>\n",
       "      <th>Hillary Clinton</th>\n",
       "    </tr>\n",
       "  </thead>\n",
       "  <tbody>\n",
       "    <tr>\n",
       "      <th>AL</th>\n",
       "      <td>74.4%</td>\n",
       "      <td>25.6%</td>\n",
       "    </tr>\n",
       "    <tr>\n",
       "      <th>AK</th>\n",
       "      <td>57.6%</td>\n",
       "      <td>42.4%</td>\n",
       "    </tr>\n",
       "    <tr>\n",
       "      <th>AZ</th>\n",
       "      <td>60.8%</td>\n",
       "      <td>39.2%</td>\n",
       "    </tr>\n",
       "    <tr>\n",
       "      <th>AR</th>\n",
       "      <td>65.8%</td>\n",
       "      <td>34.2%</td>\n",
       "    </tr>\n",
       "    <tr>\n",
       "      <th>CA</th>\n",
       "      <td>0.1%</td>\n",
       "      <td>99.9%</td>\n",
       "    </tr>\n",
       "    <tr>\n",
       "      <th>CO</th>\n",
       "      <td>35.7%</td>\n",
       "      <td>64.3%</td>\n",
       "    </tr>\n",
       "    <tr>\n",
       "      <th>CT</th>\n",
       "      <td>31.9%</td>\n",
       "      <td>68.1%</td>\n",
       "    </tr>\n",
       "    <tr>\n",
       "      <th>DE</th>\n",
       "      <td>41.1%</td>\n",
       "      <td>58.9%</td>\n",
       "    </tr>\n",
       "    <tr>\n",
       "      <th>FL</th>\n",
       "      <td>49.4%</td>\n",
       "      <td>50.6%</td>\n",
       "    </tr>\n",
       "    <tr>\n",
       "      <th>GA</th>\n",
       "      <td>83.4%</td>\n",
       "      <td>16.6%</td>\n",
       "    </tr>\n",
       "    <tr>\n",
       "      <th>HI</th>\n",
       "      <td>32.1%</td>\n",
       "      <td>67.9%</td>\n",
       "    </tr>\n",
       "    <tr>\n",
       "      <th>ID</th>\n",
       "      <td>76.9%</td>\n",
       "      <td>23.1%</td>\n",
       "    </tr>\n",
       "    <tr>\n",
       "      <th>IL</th>\n",
       "      <td>15.4%</td>\n",
       "      <td>84.6%</td>\n",
       "    </tr>\n",
       "    <tr>\n",
       "      <th>IN</th>\n",
       "      <td>83.9%</td>\n",
       "      <td>16.1%</td>\n",
       "    </tr>\n",
       "    <tr>\n",
       "      <th>IA</th>\n",
       "      <td>82.4%</td>\n",
       "      <td>17.6%</td>\n",
       "    </tr>\n",
       "    <tr>\n",
       "      <th>KS</th>\n",
       "      <td>69.8%</td>\n",
       "      <td>30.2%</td>\n",
       "    </tr>\n",
       "    <tr>\n",
       "      <th>KY</th>\n",
       "      <td>82.3%</td>\n",
       "      <td>17.7%</td>\n",
       "    </tr>\n",
       "    <tr>\n",
       "      <th>LA</th>\n",
       "      <td>77.6%</td>\n",
       "      <td>22.4%</td>\n",
       "    </tr>\n",
       "    <tr>\n",
       "      <th>ME</th>\n",
       "      <td>37.4%</td>\n",
       "      <td>62.6%</td>\n",
       "    </tr>\n",
       "    <tr>\n",
       "      <th>MD</th>\n",
       "      <td>0.1%</td>\n",
       "      <td>99.9%</td>\n",
       "    </tr>\n",
       "    <tr>\n",
       "      <th>MA</th>\n",
       "      <td>10.2%</td>\n",
       "      <td>89.8%</td>\n",
       "    </tr>\n",
       "    <tr>\n",
       "      <th>MI</th>\n",
       "      <td>46.5%</td>\n",
       "      <td>53.5%</td>\n",
       "    </tr>\n",
       "    <tr>\n",
       "      <th>MN</th>\n",
       "      <td>29.6%</td>\n",
       "      <td>70.4%</td>\n",
       "    </tr>\n",
       "    <tr>\n",
       "      <th>MS</th>\n",
       "      <td>64.6%</td>\n",
       "      <td>35.4%</td>\n",
       "    </tr>\n",
       "    <tr>\n",
       "      <th>MO</th>\n",
       "      <td>77.4%</td>\n",
       "      <td>22.6%</td>\n",
       "    </tr>\n",
       "    <tr>\n",
       "      <th>MT</th>\n",
       "      <td>60.6%</td>\n",
       "      <td>39.4%</td>\n",
       "    </tr>\n",
       "    <tr>\n",
       "      <th>NE</th>\n",
       "      <td>70.3%</td>\n",
       "      <td>29.7%</td>\n",
       "    </tr>\n",
       "    <tr>\n",
       "      <th>NV</th>\n",
       "      <td>62.2%</td>\n",
       "      <td>37.8%</td>\n",
       "    </tr>\n",
       "    <tr>\n",
       "      <th>NH</th>\n",
       "      <td>22.8%</td>\n",
       "      <td>77.2%</td>\n",
       "    </tr>\n",
       "    <tr>\n",
       "      <th>NJ</th>\n",
       "      <td>19.2%</td>\n",
       "      <td>80.8%</td>\n",
       "    </tr>\n",
       "    <tr>\n",
       "      <th>NM</th>\n",
       "      <td>34.4%</td>\n",
       "      <td>65.6%</td>\n",
       "    </tr>\n",
       "    <tr>\n",
       "      <th>NY</th>\n",
       "      <td>5.6%</td>\n",
       "      <td>94.4%</td>\n",
       "    </tr>\n",
       "    <tr>\n",
       "      <th>NC</th>\n",
       "      <td>62.2%</td>\n",
       "      <td>37.8%</td>\n",
       "    </tr>\n",
       "    <tr>\n",
       "      <th>ND</th>\n",
       "      <td>72.2%</td>\n",
       "      <td>27.9%</td>\n",
       "    </tr>\n",
       "    <tr>\n",
       "      <th>OH</th>\n",
       "      <td>66.5%</td>\n",
       "      <td>33.5%</td>\n",
       "    </tr>\n",
       "    <tr>\n",
       "      <th>OK</th>\n",
       "      <td>84.8%</td>\n",
       "      <td>15.2%</td>\n",
       "    </tr>\n",
       "    <tr>\n",
       "      <th>OR</th>\n",
       "      <td>33.6%</td>\n",
       "      <td>66.4%</td>\n",
       "    </tr>\n",
       "    <tr>\n",
       "      <th>PA</th>\n",
       "      <td>33.9%</td>\n",
       "      <td>66.1%</td>\n",
       "    </tr>\n",
       "    <tr>\n",
       "      <th>RI</th>\n",
       "      <td>42.8%</td>\n",
       "      <td>57.2%</td>\n",
       "    </tr>\n",
       "    <tr>\n",
       "      <th>SC</th>\n",
       "      <td>67.2%</td>\n",
       "      <td>32.8%</td>\n",
       "    </tr>\n",
       "    <tr>\n",
       "      <th>SD</th>\n",
       "      <td>59.4%</td>\n",
       "      <td>40.6%</td>\n",
       "    </tr>\n",
       "    <tr>\n",
       "      <th>TN</th>\n",
       "      <td>84.3%</td>\n",
       "      <td>15.7%</td>\n",
       "    </tr>\n",
       "    <tr>\n",
       "      <th>TX</th>\n",
       "      <td>77.2%</td>\n",
       "      <td>22.8%</td>\n",
       "    </tr>\n",
       "    <tr>\n",
       "      <th>UT</th>\n",
       "      <td>63.7%</td>\n",
       "      <td>36.3%</td>\n",
       "    </tr>\n",
       "    <tr>\n",
       "      <th>VT</th>\n",
       "      <td>33.6%</td>\n",
       "      <td>66.4%</td>\n",
       "    </tr>\n",
       "    <tr>\n",
       "      <th>VA</th>\n",
       "      <td>10.9%</td>\n",
       "      <td>89.1%</td>\n",
       "    </tr>\n",
       "    <tr>\n",
       "      <th>WA</th>\n",
       "      <td>31.0%</td>\n",
       "      <td>69.0%</td>\n",
       "    </tr>\n",
       "    <tr>\n",
       "      <th>WV</th>\n",
       "      <td>71.1%</td>\n",
       "      <td>28.9%</td>\n",
       "    </tr>\n",
       "    <tr>\n",
       "      <th>WI</th>\n",
       "      <td>43.3%</td>\n",
       "      <td>56.7%</td>\n",
       "    </tr>\n",
       "    <tr>\n",
       "      <th>WY</th>\n",
       "      <td>85.7%</td>\n",
       "      <td>14.3%</td>\n",
       "    </tr>\n",
       "  </tbody>\n",
       "</table>\n",
       "</div>"
      ],
      "text/plain": [
       "   Donald Trump Hillary Clinton\n",
       "AL        74.4%           25.6%\n",
       "AK        57.6%           42.4%\n",
       "AZ        60.8%           39.2%\n",
       "AR        65.8%           34.2%\n",
       "CA         0.1%           99.9%\n",
       "CO        35.7%           64.3%\n",
       "CT        31.9%           68.1%\n",
       "DE        41.1%           58.9%\n",
       "FL        49.4%           50.6%\n",
       "GA        83.4%           16.6%\n",
       "HI        32.1%           67.9%\n",
       "ID        76.9%           23.1%\n",
       "IL        15.4%           84.6%\n",
       "IN        83.9%           16.1%\n",
       "IA        82.4%           17.6%\n",
       "KS        69.8%           30.2%\n",
       "KY        82.3%           17.7%\n",
       "LA        77.6%           22.4%\n",
       "ME        37.4%           62.6%\n",
       "MD         0.1%           99.9%\n",
       "MA        10.2%           89.8%\n",
       "MI        46.5%           53.5%\n",
       "MN        29.6%           70.4%\n",
       "MS        64.6%           35.4%\n",
       "MO        77.4%           22.6%\n",
       "MT        60.6%           39.4%\n",
       "NE        70.3%           29.7%\n",
       "NV        62.2%           37.8%\n",
       "NH        22.8%           77.2%\n",
       "NJ        19.2%           80.8%\n",
       "NM        34.4%           65.6%\n",
       "NY         5.6%           94.4%\n",
       "NC        62.2%           37.8%\n",
       "ND        72.2%           27.9%\n",
       "OH        66.5%           33.5%\n",
       "OK        84.8%           15.2%\n",
       "OR        33.6%           66.4%\n",
       "PA        33.9%           66.1%\n",
       "RI        42.8%           57.2%\n",
       "SC        67.2%           32.8%\n",
       "SD        59.4%           40.6%\n",
       "TN        84.3%           15.7%\n",
       "TX        77.2%           22.8%\n",
       "UT        63.7%           36.3%\n",
       "VT        33.6%           66.4%\n",
       "VA        10.9%           89.1%\n",
       "WA        31.0%           69.0%\n",
       "WV        71.1%           28.9%\n",
       "WI        43.3%           56.7%\n",
       "WY        85.7%           14.3%"
      ]
     },
     "execution_count": 26,
     "metadata": {},
     "output_type": "execute_result"
    }
   ],
   "source": [
    "test1"
   ]
  },
  {
   "cell_type": "code",
   "execution_count": 27,
   "metadata": {
    "collapsed": true
   },
   "outputs": [],
   "source": [
    "test1.to_csv('poll_results_pctwin_0922.csv')"
   ]
  },
  {
   "cell_type": "code",
   "execution_count": null,
   "metadata": {
    "collapsed": false,
    "scrolled": false
   },
   "outputs": [],
   "source": [
    "topic = '2016-president'\n",
    "params = {'state': 'pa',\n",
    "          'after': '2016-04-01',\n",
    "          'topic': topic\n",
    "         }\n",
    "page = 1\n",
    "params['page'] = page\n",
    "page_results = requests.get(API_ENDPOINT,\n",
    "                                    params=params).json()\n",
    "page_results"
   ]
  },
  {
   "cell_type": "code",
   "execution_count": 26,
   "metadata": {
    "collapsed": false
   },
   "outputs": [
    {
     "data": {
      "text/html": [
       "<div>\n",
       "<table border=\"1\" class=\"dataframe\">\n",
       "  <thead>\n",
       "    <tr style=\"text-align: right;\">\n",
       "      <th></th>\n",
       "    </tr>\n",
       "  </thead>\n",
       "  <tbody>\n",
       "  </tbody>\n",
       "</table>\n",
       "</div>"
      ],
      "text/plain": [
       "Empty DataFrame\n",
       "Columns: []\n",
       "Index: []"
      ]
     },
     "execution_count": 26,
     "metadata": {},
     "output_type": "execute_result"
    }
   ],
   "source": [
    "polls = pd.DataFrame(get_all_results(state='tx', party='gop', start_date='2016-4-1'))\n",
    "polls"
   ]
  },
  {
   "cell_type": "code",
   "execution_count": null,
   "metadata": {
    "collapsed": true
   },
   "outputs": [],
   "source": []
  },
  {
   "cell_type": "code",
   "execution_count": 8,
   "metadata": {
    "collapsed": false
   },
   "outputs": [
    {
     "name": "stdout",
     "output_type": "stream",
     "text": [
      "Superpoll Results:\n",
      "                  mean   std\n",
      "candidate                   \n",
      "Hillary Clinton  47.4%  2.4%\n",
      "Bernie Sanders   46.0%  2.4%\n",
      "Martin O'Malley   3.6%  0.9%\n",
      "\n",
      "Simulation Results:\n",
      "Hillary Clinton    66.0%\n",
      "Bernie Sanders     34.0%\n",
      "dtype: object\n"
     ]
    }
   ],
   "source": [
    "predict(state='ia', party='dem', target_date=target_date)"
   ]
  },
  {
   "cell_type": "code",
   "execution_count": 9,
   "metadata": {
    "collapsed": false
   },
   "outputs": [
    {
     "name": "stdout",
     "output_type": "stream",
     "text": [
      "Superpoll Results:\n",
      "                 mean   std\n",
      "candidate                  \n",
      "Donald Trump    27.5%  2.1%\n",
      "Ted Cruz        23.1%  2.0%\n",
      "Marco Rubio     18.1%  1.9%\n",
      "Ben Carson       7.5%  1.3%\n",
      "Rand Paul        5.1%  1.1%\n",
      "Jeb Bush         4.1%  0.9%\n",
      "Mike Huckabee    3.5%  0.9%\n",
      "John Kasich      2.8%  0.8%\n",
      "Carly Fiorina    2.5%  0.7%\n",
      "Chris Christie   2.0%  0.7%\n",
      "Rick Santorum    1.3%  0.5%\n",
      "\n",
      "Simulation Results:\n",
      "Donald Trump    93.6%\n",
      "Ted Cruz         6.4%\n",
      "Marco Rubio      0.0%\n",
      "dtype: object\n"
     ]
    }
   ],
   "source": [
    "predict(state='ia', party='gop', target_date=target_date,  window=4)"
   ]
  }
 ],
 "metadata": {
  "kernelspec": {
   "display_name": "Python 2",
   "language": "python",
   "name": "python2"
  },
  "language_info": {
   "codemirror_mode": {
    "name": "ipython",
    "version": 2
   },
   "file_extension": ".py",
   "mimetype": "text/x-python",
   "name": "python",
   "nbconvert_exporter": "python",
   "pygments_lexer": "ipython2",
   "version": "2.7.12"
  }
 },
 "nbformat": 4,
 "nbformat_minor": 0
}
